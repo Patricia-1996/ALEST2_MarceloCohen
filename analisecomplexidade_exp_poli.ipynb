{
  "nbformat": 4,
  "nbformat_minor": 0,
  "metadata": {
    "kernelspec": {
      "display_name": "Python 3",
      "language": "python",
      "name": "python3"
    },
    "language_info": {
      "codemirror_mode": {
        "name": "ipython",
        "version": 3
      },
      "file_extension": ".py",
      "mimetype": "text/x-python",
      "name": "python",
      "nbconvert_exporter": "python",
      "pygments_lexer": "ipython3",
      "version": "3.7.3"
    },
    "colab": {
      "provenance": [],
      "include_colab_link": true
    }
  },
  "cells": [
    {
      "cell_type": "markdown",
      "metadata": {
        "id": "view-in-github",
        "colab_type": "text"
      },
      "source": [
        "<a href=\"https://colab.research.google.com/github/Patricia-1996/ALEST2_MarceloCohen/blob/main/analisecomplexidade_exp_poli.ipynb\" target=\"_parent\"><img src=\"https://colab.research.google.com/assets/colab-badge.svg\" alt=\"Open In Colab\"/></a>"
      ]
    },
    {
      "cell_type": "markdown",
      "metadata": {
        "id": "_oYhYstQ5d-2"
      },
      "source": [
        "# Análise de complexidade de funções genéricas - Contando operações"
      ]
    },
    {
      "cell_type": "markdown",
      "metadata": {
        "id": "99OtSYUz6Juj"
      },
      "source": [
        "Prof. Marcelo Cohen - Baseado e adaptado do [material](https://www.inf.pucrs.br/~oliveira/alestII/funcs.pdf) do prof. João Batista Oliveira\n",
        "\n",
        "De forma geral, nos preocupamos com duas situações: funções exponenciais e funções polinomiais."
      ]
    },
    {
      "cell_type": "markdown",
      "metadata": {
        "id": "htRnSInm5d-7"
      },
      "source": [
        "## Funções Exponenciais\n",
        "\n",
        "Começamos olhando uma função bem conhecida (sequência de Fibonacci):"
      ]
    },
    {
      "cell_type": "markdown",
      "source": [],
      "metadata": {
        "id": "Tb-_pjGsgXdy"
      }
    },
    {
      "cell_type": "code",
      "metadata": {
        "id": "KkMPIrXZ5d_A"
      },
      "source": [
        "def func1(n):\n",
        "    global op  # acessa a variável op definida no programa principal\n",
        "    op += 1    # cada chamada conta UMA operação\n",
        "    if n <= 1:\n",
        "        return 1\n",
        "    return func1(n-1) + func1(n-2)"
      ],
      "execution_count": null,
      "outputs": []
    },
    {
      "cell_type": "code",
      "metadata": {
        "scrolled": true,
        "id": "kZgPDchn5d_V",
        "colab": {
          "base_uri": "https://localhost:8080/"
        },
        "outputId": "a1b6c011-ad38-48dd-db7b-76145329cfbe"
      },
      "source": [
        "for n in range(1,40): # conta de 1 a 39 - não dá para fazer muito mais que isso... demora demais!\n",
        "    op = 0\n",
        "    func1(n)\n",
        "    print(n,op) # gera uma tabela com o n e a quantidade de operações correspondente"
      ],
      "execution_count": null,
      "outputs": [
        {
          "output_type": "stream",
          "name": "stdout",
          "text": [
            "1 1\n",
            "2 3\n",
            "3 5\n",
            "4 9\n",
            "5 15\n",
            "6 25\n",
            "7 41\n",
            "8 67\n",
            "9 109\n",
            "10 177\n",
            "11 287\n",
            "12 465\n",
            "13 753\n",
            "14 1219\n",
            "15 1973\n",
            "16 3193\n",
            "17 5167\n",
            "18 8361\n",
            "19 13529\n",
            "20 21891\n",
            "21 35421\n",
            "22 57313\n",
            "23 92735\n",
            "24 150049\n",
            "25 242785\n",
            "26 392835\n",
            "27 635621\n",
            "28 1028457\n",
            "29 1664079\n",
            "30 2692537\n",
            "31 4356617\n",
            "32 7049155\n",
            "33 11405773\n",
            "34 18454929\n",
            "35 29860703\n",
            "36 48315633\n",
            "37 78176337\n",
            "38 126491971\n",
            "39 204668309\n"
          ]
        }
      ]
    },
    {
      "cell_type": "markdown",
      "metadata": {
        "id": "rbaYKf3t5d_k"
      },
      "source": [
        "### Plotando\n",
        "\n",
        "A ideia de plotar esse resultado é tentar \"enxergar\", em linhas gerais, qual é o comportamento de crescimento dessa função. Isso **não** vai resolver o nosso problema, mas vai nos mostrar, por exemplo, que a função não é linear ou logarítmica (que têm gráficos com comportamento bem conhecido)."
      ]
    },
    {
      "cell_type": "code",
      "metadata": {
        "id": "eAf6SWNS5d_m",
        "colab": {
          "base_uri": "https://localhost:8080/",
          "height": 523
        },
        "outputId": "8e2e75e5-6f0e-454f-9a64-b5f20a2a0daa"
      },
      "source": [
        "import matplotlib.pyplot as plt\n",
        "x = []\n",
        "y = []\n",
        "for n in range(1,31):\n",
        "    op = 0\n",
        "    func1(n)\n",
        "    x.append(n)\n",
        "    y.append(op)\n",
        "plt.style.use('fivethirtyeight')\n",
        "plt.plot(x,y,'r-')\n",
        "plt.show()\n",
        "print(x)\n",
        "print(y)"
      ],
      "execution_count": null,
      "outputs": [
        {
          "output_type": "display_data",
          "data": {
            "text/plain": [
              "<Figure size 640x480 with 1 Axes>"
            ],
            "image/png": "[encoded data removed]"
          },
          "metadata": {}
        },
        {
          "output_type": "stream",
          "name": "stdout",
          "text": [
            "[1, 2, 3, 4, 5, 6, 7, 8, 9, 10, 11, 12, 13, 14, 15, 16, 17, 18, 19, 20, 21, 22, 23, 24, 25, 26, 27, 28, 29, 30]\n",
            "[1, 3, 5, 9, 15, 25, 41, 67, 109, 177, 287, 465, 753, 1219, 1973, 3193, 5167, 8361, 13529, 21891, 35421, 57313, 92735, 150049, 242785, 392835, 635621, 1028457, 1664079, 2692537]\n"
          ]
        }
      ]
    },
    {
      "cell_type": "markdown",
      "metadata": {
        "id": "M3Ai6v705d_y"
      },
      "source": [
        "Olhando para o gráfico não é possível ter certeza de nada... **Parece** que a função cresce de forma bem rápida, então podemos imaginar que realmente é exponencial. Mas para ter certeza, podemos usar uma técnica bastante simples: basta aplicar uma escala logarítmica em Y:"
      ]
    },
    {
      "cell_type": "code",
      "metadata": {
        "id": "yYdSulq75d_z",
        "colab": {
          "base_uri": "https://localhost:8080/",
          "height": 449
        },
        "outputId": "ddb9a5c8-1275-45e8-e8df-5841c6a0cd2b"
      },
      "source": [
        "plt.yscale(\"log\")\n",
        "plt.plot(x,y,'r-')\n",
        "plt.show()"
      ],
      "execution_count": null,
      "outputs": [
        {
          "output_type": "display_data",
          "data": {
            "text/plain": [
              "<Figure size 640x480 with 1 Axes>"
            ],
            "image/png": "[encoded data removed]"
          },
          "metadata": {}
        }
      ]
    },
    {
      "cell_type": "markdown",
      "metadata": {
        "id": "ntjs1qbhBGi7"
      },
      "source": [
        "Se a função for **realmente** exponencial, no momento em que for plotada com escala logarítmica no seu resultado, isto é, quando plotamos $\\log(f(x))$ ao invés de $f(x)$, a aparência será de uma **reta**."
      ]
    },
    {
      "cell_type": "markdown",
      "metadata": {
        "id": "SK7rkddPBgt3"
      },
      "source": [
        "A partir daí, podemos usar algumas transformações que vêm da Matemática para fazer a análise:"
      ]
    },
    {
      "cell_type": "markdown",
      "metadata": {
        "id": "oKakIZJC5d_9"
      },
      "source": [
        "$f(n) = a \\cdot b^{n}$"
      ]
    },
    {
      "cell_type": "markdown",
      "metadata": {
        "id": "JrWIYTN6Bngb"
      },
      "source": [
        "Como queremos nos livrar da exponencial $(b^{n})$, uma técnica bastante empregada é aplicar um logaritmo de ambos os lados da equação. Com isso teremos:"
      ]
    },
    {
      "cell_type": "markdown",
      "metadata": {
        "id": "_KVXrbf45d__"
      },
      "source": [
        "$\\log({f(n)}) = \\log{(a\\cdot b^{n})}$"
      ]
    },
    {
      "cell_type": "markdown",
      "metadata": {
        "id": "fx96Q3UeCi_4"
      },
      "source": [
        "Aplicando as propriedades da multiplicação de logaritmos e da exponenciação de logaritmos:"
      ]
    },
    {
      "cell_type": "markdown",
      "metadata": {
        "id": "6K_KCz9mCpJb"
      },
      "source": [
        "$\\log({f(n)}) = \\log{(a\\cdot b^{n})} = \\log{(a)} + \\log{(b^{n})}$"
      ]
    },
    {
      "cell_type": "markdown",
      "metadata": {
        "id": "DeIz7Bk45eAA"
      },
      "source": [
        "$\\log({f(n)}) = n \\cdot \\log{(b)} + \\log{(a)}$"
      ]
    },
    {
      "cell_type": "markdown",
      "metadata": {
        "id": "jH2vLjR5C40w"
      },
      "source": [
        "A equação agora representa uma **reta** (aquela que vimos no gráfico com escala logarítmica). Portanto, ela tem a forma $r + s$, onde:"
      ]
    },
    {
      "cell_type": "markdown",
      "metadata": {
        "id": "zoImBNtE5eAD"
      },
      "source": [
        "$r = n \\cdot \\log{(b)}$"
      ]
    },
    {
      "cell_type": "markdown",
      "metadata": {
        "id": "sIsfS6i45eAE"
      },
      "source": [
        "$s = \\log{(a)}$"
      ]
    },
    {
      "cell_type": "markdown",
      "metadata": {
        "id": "L4_bt0hF5eAF"
      },
      "source": [
        "### Como encontrar a inclinação da reta (r)?"
      ]
    },
    {
      "cell_type": "markdown",
      "metadata": {
        "id": "bW7EoJlf5eAI"
      },
      "source": [
        "Para descobrirmos a base da função exponencial $(b)$, precisamos primeiro descobrir a inclinação da reta. Isso é relativamente simples:\n",
        "- Primeiro calculamos dois valores conhecidos da função:"
      ]
    },
    {
      "cell_type": "markdown",
      "metadata": {
        "id": "A7t4gfON5eAK"
      },
      "source": [
        "$f(2) = 3$"
      ]
    },
    {
      "cell_type": "markdown",
      "metadata": {
        "id": "xyB_1QsG5eAM"
      },
      "source": [
        "$f(30) = 2692537$"
      ]
    },
    {
      "cell_type": "markdown",
      "metadata": {
        "id": "u6Cw7MrN5eAO"
      },
      "source": [
        "- Como o gráfico foi gerado com escala logarítmica em y, fazemos:"
      ]
    },
    {
      "cell_type": "markdown",
      "metadata": {
        "id": "fIa-BVFN5eAP"
      },
      "source": [
        "$r \\approx \\frac{\\log{(2692537)}-\\log{(3)}}{30-2} = 0.489549...$"
      ]
    },
    {
      "cell_type": "markdown",
      "metadata": {
        "id": "hiA-jZ6QD4I-"
      },
      "source": [
        "- Logo:"
      ]
    },
    {
      "cell_type": "markdown",
      "metadata": {
        "id": "9peKsZv65eAS"
      },
      "source": [
        "$b = e^{r} \\approx 1.6315808$"
      ]
    },
    {
      "cell_type": "code",
      "metadata": {
        "id": "nmxkVwGRDumD",
        "colab": {
          "base_uri": "https://localhost:8080/"
        },
        "outputId": "01de206e-9d82-478d-8ef6-260952e7b415"
      },
      "source": [
        "print(1.6315808 ** 30)\n",
        "print(1.6315808 ** 50)\n",
        "print(1.6315808 ** 100)"
      ],
      "execution_count": null,
      "outputs": [
        {
          "output_type": "stream",
          "name": "stdout",
          "text": [
            "2389227.9160959595\n",
            "42700140180.72691\n",
            "1.823301971453729e+21\n"
          ]
        }
      ]
    },
    {
      "cell_type": "markdown",
      "metadata": {
        "id": "9dPxB6S15eAT"
      },
      "source": [
        "## Funções Polinomiais"
      ]
    },
    {
      "cell_type": "markdown",
      "metadata": {
        "id": "eILn1g8ZEDV5"
      },
      "source": [
        "O segundo caso que nos interessa (e provavelmente ocorrerá na maior parte dos algoritmos) é se a função for polinomial. Nesse caso, é importante determinar o grau do polinômio $(n^{b})$.\n",
        "\n",
        "Novamente, começamos com um exemplo simples. Neste caso, o próprio valor de retorno da função corresponde à quantidade de iterações realizadas $(r)$."
      ]
    },
    {
      "cell_type": "code",
      "metadata": {
        "id": "Jj3CCBvn5eAV"
      },
      "source": [
        "def func2(n):\n",
        "    r = 0\n",
        "    for i in range(n+1):  # 0...n\n",
        "        for j in range(i+2, 2*n+1):  # i+2 ... 2n\n",
        "            r += 1\n",
        "    return r"
      ],
      "execution_count": null,
      "outputs": []
    },
    {
      "cell_type": "code",
      "metadata": {
        "id": "EXNrNeL75eAc",
        "colab": {
          "base_uri": "https://localhost:8080/"
        },
        "outputId": "00dd8ec9-b462-4769-ad82-31479c014bc0"
      },
      "source": [
        "for n in range (0,501):\n",
        "    print(n,func2(n))"
      ],
      "execution_count": null,
      "outputs": [
        {
          "output_type": "stream",
          "name": "stdout",
          "text": [
            "0 0\n",
            "1 1\n",
            "2 6\n",
            "3 14\n",
            "4 25\n",
            "5 39\n",
            "6 56\n",
            "7 76\n",
            "8 99\n",
            "9 125\n",
            "10 154\n",
            "11 186\n",
            "12 221\n",
            "13 259\n",
            "14 300\n",
            "15 344\n",
            "16 391\n",
            "17 441\n",
            "18 494\n",
            "19 550\n",
            "20 609\n",
            "21 671\n",
            "22 736\n",
            "23 804\n",
            "24 875\n",
            "25 949\n",
            "26 1026\n",
            "27 1106\n",
            "28 1189\n",
            "29 1275\n",
            "30 1364\n",
            "31 1456\n",
            "32 1551\n",
            "33 1649\n",
            "34 1750\n",
            "35 1854\n",
            "36 1961\n",
            "37 2071\n",
            "38 2184\n",
            "39 2300\n",
            "40 2419\n",
            "41 2541\n",
            "42 2666\n",
            "43 2794\n",
            "44 2925\n",
            "45 3059\n",
            "46 3196\n",
            "47 3336\n",
            "48 3479\n",
            "49 3625\n",
            "50 3774\n",
            "51 3926\n",
            "52 4081\n",
            "53 4239\n",
            "54 4400\n",
            "55 4564\n",
            "56 4731\n",
            "57 4901\n",
            "58 5074\n",
            "59 5250\n",
            "60 5429\n",
            "61 5611\n",
            "62 5796\n",
            "63 5984\n",
            "64 6175\n",
            "65 6369\n",
            "66 6566\n",
            "67 6766\n",
            "68 6969\n",
            "69 7175\n",
            "70 7384\n",
            "71 7596\n",
            "72 7811\n",
            "73 8029\n",
            "74 8250\n",
            "75 8474\n",
            "76 8701\n",
            "77 8931\n",
            "78 9164\n",
            "79 9400\n",
            "80 9639\n",
            "81 9881\n",
            "82 10126\n",
            "83 10374\n",
            "84 10625\n",
            "85 10879\n",
            "86 11136\n",
            "87 11396\n",
            "88 11659\n",
            "89 11925\n",
            "90 12194\n",
            "91 12466\n",
            "92 12741\n",
            "93 13019\n",
            "94 13300\n",
            "95 13584\n",
            "96 13871\n",
            "97 14161\n",
            "98 14454\n",
            "99 14750\n",
            "100 15049\n",
            "101 15351\n",
            "102 15656\n",
            "103 15964\n",
            "104 16275\n",
            "105 16589\n",
            "106 16906\n",
            "107 17226\n",
            "108 17549\n",
            "109 17875\n",
            "110 18204\n",
            "111 18536\n",
            "112 18871\n",
            "113 19209\n",
            "114 19550\n",
            "115 19894\n",
            "116 20241\n",
            "117 20591\n",
            "118 20944\n",
            "119 21300\n",
            "120 21659\n",
            "121 22021\n",
            "122 22386\n",
            "123 22754\n",
            "124 23125\n",
            "125 23499\n",
            "126 23876\n",
            "127 24256\n",
            "128 24639\n",
            "129 25025\n",
            "130 25414\n",
            "131 25806\n",
            "132 26201\n",
            "133 26599\n",
            "134 27000\n",
            "135 27404\n",
            "136 27811\n",
            "137 28221\n",
            "138 28634\n",
            "139 29050\n",
            "140 29469\n",
            "141 29891\n",
            "142 30316\n",
            "143 30744\n",
            "144 31175\n",
            "145 31609\n",
            "146 32046\n",
            "147 32486\n",
            "148 32929\n",
            "149 33375\n",
            "150 33824\n",
            "151 34276\n",
            "152 34731\n",
            "153 35189\n",
            "154 35650\n",
            "155 36114\n",
            "156 36581\n",
            "157 37051\n",
            "158 37524\n",
            "159 38000\n",
            "160 38479\n",
            "161 38961\n",
            "162 39446\n",
            "163 39934\n",
            "164 40425\n",
            "165 40919\n",
            "166 41416\n",
            "167 41916\n",
            "168 42419\n",
            "169 42925\n",
            "170 43434\n",
            "171 43946\n",
            "172 44461\n",
            "173 44979\n",
            "174 45500\n",
            "175 46024\n",
            "176 46551\n",
            "177 47081\n",
            "178 47614\n",
            "179 48150\n",
            "180 48689\n",
            "181 49231\n",
            "182 49776\n",
            "183 50324\n",
            "184 50875\n",
            "185 51429\n",
            "186 51986\n",
            "187 52546\n",
            "188 53109\n",
            "189 53675\n",
            "190 54244\n",
            "191 54816\n",
            "192 55391\n",
            "193 55969\n",
            "194 56550\n",
            "195 57134\n",
            "196 57721\n",
            "197 58311\n",
            "198 58904\n",
            "199 59500\n",
            "200 60099\n",
            "201 60701\n",
            "202 61306\n",
            "203 61914\n",
            "204 62525\n",
            "205 63139\n",
            "206 63756\n",
            "207 64376\n",
            "208 64999\n",
            "209 65625\n",
            "210 66254\n",
            "211 66886\n",
            "212 67521\n",
            "213 68159\n",
            "214 68800\n",
            "215 69444\n",
            "216 70091\n",
            "217 70741\n",
            "218 71394\n",
            "219 72050\n",
            "220 72709\n",
            "221 73371\n",
            "222 74036\n",
            "223 74704\n",
            "224 75375\n",
            "225 76049\n",
            "226 76726\n",
            "227 77406\n",
            "228 78089\n",
            "229 78775\n",
            "230 79464\n",
            "231 80156\n",
            "232 80851\n",
            "233 81549\n",
            "234 82250\n",
            "235 82954\n",
            "236 83661\n",
            "237 84371\n",
            "238 85084\n",
            "239 85800\n",
            "240 86519\n",
            "241 87241\n",
            "242 87966\n",
            "243 88694\n",
            "244 89425\n",
            "245 90159\n",
            "246 90896\n",
            "247 91636\n",
            "248 92379\n",
            "249 93125\n",
            "250 93874\n",
            "251 94626\n",
            "252 95381\n",
            "253 96139\n",
            "254 96900\n",
            "255 97664\n",
            "256 98431\n",
            "257 99201\n",
            "258 99974\n",
            "259 100750\n",
            "260 101529\n",
            "261 102311\n",
            "262 103096\n",
            "263 103884\n",
            "264 104675\n",
            "265 105469\n",
            "266 106266\n",
            "267 107066\n",
            "268 107869\n",
            "269 108675\n",
            "270 109484\n",
            "271 110296\n",
            "272 111111\n",
            "273 111929\n",
            "274 112750\n",
            "275 113574\n",
            "276 114401\n",
            "277 115231\n",
            "278 116064\n",
            "279 116900\n",
            "280 117739\n",
            "281 118581\n",
            "282 119426\n",
            "283 120274\n",
            "284 121125\n",
            "285 121979\n",
            "286 122836\n",
            "287 123696\n",
            "288 124559\n",
            "289 125425\n",
            "290 126294\n",
            "291 127166\n",
            "292 128041\n",
            "293 128919\n",
            "294 129800\n",
            "295 130684\n",
            "296 131571\n",
            "297 132461\n",
            "298 133354\n",
            "299 134250\n",
            "300 135149\n",
            "301 136051\n",
            "302 136956\n",
            "303 137864\n",
            "304 138775\n",
            "305 139689\n",
            "306 140606\n",
            "307 141526\n",
            "308 142449\n",
            "309 143375\n",
            "310 144304\n",
            "311 145236\n",
            "312 146171\n",
            "313 147109\n",
            "314 148050\n",
            "315 148994\n",
            "316 149941\n",
            "317 150891\n",
            "318 151844\n",
            "319 152800\n",
            "320 153759\n",
            "321 154721\n",
            "322 155686\n",
            "323 156654\n",
            "324 157625\n",
            "325 158599\n",
            "326 159576\n",
            "327 160556\n",
            "328 161539\n",
            "329 162525\n",
            "330 163514\n",
            "331 164506\n",
            "332 165501\n",
            "333 166499\n",
            "334 167500\n",
            "335 168504\n",
            "336 169511\n",
            "337 170521\n",
            "338 171534\n",
            "339 172550\n",
            "340 173569\n",
            "341 174591\n",
            "342 175616\n",
            "343 176644\n",
            "344 177675\n",
            "345 178709\n",
            "346 179746\n",
            "347 180786\n",
            "348 181829\n",
            "349 182875\n",
            "350 183924\n",
            "351 184976\n",
            "352 186031\n",
            "353 187089\n",
            "354 188150\n",
            "355 189214\n",
            "356 190281\n",
            "357 191351\n",
            "358 192424\n",
            "359 193500\n",
            "360 194579\n",
            "361 195661\n",
            "362 196746\n",
            "363 197834\n",
            "364 198925\n",
            "365 200019\n",
            "366 201116\n",
            "367 202216\n",
            "368 203319\n",
            "369 204425\n",
            "370 205534\n",
            "371 206646\n",
            "372 207761\n",
            "373 208879\n",
            "374 210000\n",
            "375 211124\n",
            "376 212251\n",
            "377 213381\n",
            "378 214514\n",
            "379 215650\n",
            "380 216789\n",
            "381 217931\n",
            "382 219076\n",
            "383 220224\n",
            "384 221375\n",
            "385 222529\n",
            "386 223686\n",
            "387 224846\n",
            "388 226009\n",
            "389 227175\n",
            "390 228344\n",
            "391 229516\n",
            "392 230691\n",
            "393 231869\n",
            "394 233050\n",
            "395 234234\n",
            "396 235421\n",
            "397 236611\n",
            "398 237804\n",
            "399 239000\n",
            "400 240199\n",
            "401 241401\n",
            "402 242606\n",
            "403 243814\n",
            "404 245025\n",
            "405 246239\n",
            "406 247456\n",
            "407 248676\n",
            "408 249899\n",
            "409 251125\n",
            "410 252354\n",
            "411 253586\n",
            "412 254821\n",
            "413 256059\n",
            "414 257300\n",
            "415 258544\n",
            "416 259791\n",
            "417 261041\n",
            "418 262294\n",
            "419 263550\n",
            "420 264809\n",
            "421 266071\n",
            "422 267336\n",
            "423 268604\n",
            "424 269875\n",
            "425 271149\n",
            "426 272426\n",
            "427 273706\n",
            "428 274989\n",
            "429 276275\n",
            "430 277564\n",
            "431 278856\n",
            "432 280151\n",
            "433 281449\n",
            "434 282750\n",
            "435 284054\n",
            "436 285361\n",
            "437 286671\n",
            "438 287984\n",
            "439 289300\n",
            "440 290619\n",
            "441 291941\n",
            "442 293266\n",
            "443 294594\n",
            "444 295925\n",
            "445 297259\n",
            "446 298596\n",
            "447 299936\n",
            "448 301279\n",
            "449 302625\n",
            "450 303974\n",
            "451 305326\n",
            "452 306681\n",
            "453 308039\n",
            "454 309400\n",
            "455 310764\n",
            "456 312131\n",
            "457 313501\n",
            "458 314874\n",
            "459 316250\n",
            "460 317629\n",
            "461 319011\n",
            "462 320396\n",
            "463 321784\n",
            "464 323175\n",
            "465 324569\n",
            "466 325966\n",
            "467 327366\n",
            "468 328769\n",
            "469 330175\n",
            "470 331584\n",
            "471 332996\n",
            "472 334411\n",
            "473 335829\n",
            "474 337250\n",
            "475 338674\n",
            "476 340101\n",
            "477 341531\n",
            "478 342964\n",
            "479 344400\n",
            "480 345839\n",
            "481 347281\n",
            "482 348726\n",
            "483 350174\n",
            "484 351625\n",
            "485 353079\n",
            "486 354536\n",
            "487 355996\n",
            "488 357459\n",
            "489 358925\n",
            "490 360394\n",
            "491 361866\n",
            "492 363341\n",
            "493 364819\n",
            "494 366300\n",
            "495 367784\n",
            "496 369271\n",
            "497 370761\n",
            "498 372254\n",
            "499 373750\n",
            "500 375249\n"
          ]
        }
      ]
    },
    {
      "cell_type": "markdown",
      "metadata": {
        "id": "88-rcxMJ5eAn"
      },
      "source": [
        "### Plotando\n",
        "\n",
        "A estratégia é a mesma de antes: vamos plotar n e o total de operações correpondente para tentar \"enxergar\" algo:"
      ]
    },
    {
      "cell_type": "code",
      "metadata": {
        "id": "ApfH8FQH5eAp",
        "colab": {
          "base_uri": "https://localhost:8080/",
          "height": 504
        },
        "outputId": "b8bffe39-414a-4110-d359-71599777d0d6"
      },
      "source": [
        "x2 = []\n",
        "y2 = []\n",
        "y3 = []\n",
        "for n in range(1,100):\n",
        "    x2.append(n)\n",
        "    y2.append(func2(n))\n",
        "    y3.append(n**2)\n",
        "plt.plot(x2,y2,'b-',label=\"func2\")\n",
        "plt.plot(x2,y3,'r-',label=\"n**2\")\n",
        "plt.legend()\n",
        "plt.show()\n",
        "print(x2)\n",
        "print(y2)"
      ],
      "execution_count": null,
      "outputs": [
        {
          "output_type": "display_data",
          "data": {
            "text/plain": [
              "<Figure size 640x480 with 1 Axes>"
            ],
            "image/png": "[encoded data removed]"
          },
          "metadata": {}
        },
        {
          "output_type": "stream",
          "name": "stdout",
          "text": [
            "[1, 2, 3, 4, 5, 6, 7, 8, 9, 10, 11, 12, 13, 14, 15, 16, 17, 18, 19, 20, 21, 22, 23, 24, 25, 26, 27, 28, 29, 30, 31, 32, 33, 34, 35, 36, 37, 38, 39, 40, 41, 42, 43, 44, 45, 46, 47, 48, 49, 50, 51, 52, 53, 54, 55, 56, 57, 58, 59, 60, 61, 62, 63, 64, 65, 66, 67, 68, 69, 70, 71, 72, 73, 74, 75, 76, 77, 78, 79, 80, 81, 82, 83, 84, 85, 86, 87, 88, 89, 90, 91, 92, 93, 94, 95, 96, 97, 98, 99]\n",
            "[1, 6, 14, 25, 39, 56, 76, 99, 125, 154, 186, 221, 259, 300, 344, 391, 441, 494, 550, 609, 671, 736, 804, 875, 949, 1026, 1106, 1189, 1275, 1364, 1456, 1551, 1649, 1750, 1854, 1961, 2071, 2184, 2300, 2419, 2541, 2666, 2794, 2925, 3059, 3196, 3336, 3479, 3625, 3774, 3926, 4081, 4239, 4400, 4564, 4731, 4901, 5074, 5250, 5429, 5611, 5796, 5984, 6175, 6369, 6566, 6766, 6969, 7175, 7384, 7596, 7811, 8029, 8250, 8474, 8701, 8931, 9164, 9400, 9639, 9881, 10126, 10374, 10625, 10879, 11136, 11396, 11659, 11925, 12194, 12466, 12741, 13019, 13300, 13584, 13871, 14161, 14454, 14750]\n"
          ]
        }
      ]
    },
    {
      "cell_type": "markdown",
      "metadata": {
        "id": "_0xhck70Evx3"
      },
      "source": [
        "Se repetirmos o processo e usarmos uma escala logarítmica em Y, veremos que dessa vez o resultado não é uma linha reta, logo não é exponencial:"
      ]
    },
    {
      "cell_type": "code",
      "metadata": {
        "id": "yhn2AR0IE6MR",
        "colab": {
          "base_uri": "https://localhost:8080/",
          "height": 449
        },
        "outputId": "07e49c8f-f995-4cdb-d73a-e0bdee3f583f"
      },
      "source": [
        "plt.yscale(\"log\")\n",
        "plt.plot(x2,y2,'b-')\n",
        "plt.show()"
      ],
      "execution_count": null,
      "outputs": [
        {
          "output_type": "display_data",
          "data": {
            "text/plain": [
              "<Figure size 640x480 with 1 Axes>"
            ],
            "image/png": "[encoded data removed]"
          },
          "metadata": {}
        }
      ]
    },
    {
      "cell_type": "markdown",
      "metadata": {
        "id": "rTm6Rq7c5eAw"
      },
      "source": [
        "Nesse caso, a técnica é igualmente simples: vamos agora exibir **ambos** os eixos com escala logarítmica."
      ]
    },
    {
      "cell_type": "code",
      "metadata": {
        "id": "Zl2uFumW5eAy",
        "colab": {
          "base_uri": "https://localhost:8080/",
          "height": 452
        },
        "outputId": "f286b832-7153-446d-d313-9857bc8e8500"
      },
      "source": [
        "plt.xscale(\"log\")\n",
        "plt.yscale(\"log\")\n",
        "plt.plot(x2,y2,'r-')\n",
        "plt.show()"
      ],
      "execution_count": null,
      "outputs": [
        {
          "output_type": "display_data",
          "data": {
            "text/plain": [
              "<Figure size 640x480 with 1 Axes>"
            ],
            "image/png": "[encoded data removed]"
          },
          "metadata": {}
        }
      ]
    },
    {
      "cell_type": "markdown",
      "metadata": {
        "id": "Bc7B28_mFdIm"
      },
      "source": [
        "Se agora o resultado for uma **reta** (e nesse caso, é), significa que a função é **polinomial**.\n",
        "\n",
        "Tentaremos resolver de forma bem parecida:"
      ]
    },
    {
      "cell_type": "markdown",
      "metadata": {
        "id": "GVDHNJVZ5eA4"
      },
      "source": [
        "$f(n) = n^{b}$"
      ]
    },
    {
      "cell_type": "markdown",
      "metadata": {
        "id": "6NJQzcyWFupF"
      },
      "source": [
        "- Aplicando logaritmo nos dois lados..."
      ]
    },
    {
      "cell_type": "markdown",
      "metadata": {
        "id": "EMjYxSm75eA6"
      },
      "source": [
        "$\\log(f(n)) = \\log(n^{b}) = b\\cdot \\log(n)$"
      ]
    },
    {
      "cell_type": "markdown",
      "metadata": {
        "id": "Tt7d6rP15eA-"
      },
      "source": [
        "- ou usando $f(e^{n})$ ao invés de $f(n)$. A vantagem de fazer isso é que conseguimos eliminar os logaritmos no lado direito:"
      ]
    },
    {
      "cell_type": "markdown",
      "metadata": {
        "id": "TGeBP04Z5eA_"
      },
      "source": [
        "$\\log(f(e^{n})) = \\log((e^{n})^{b}) = b\\cdot log(e^{n}) = n\\cdot b \\cdot \\log(e) = n \\cdot b \\cdot 1$"
      ]
    },
    {
      "cell_type": "markdown",
      "metadata": {
        "id": "CMtGgHrI5eBA"
      },
      "source": [
        "- Logo, b é o coeficiente angular dessa reta. Repetindo o processo anterior, calculamos primeiro o valor da função em dois pontos conhecidos:"
      ]
    },
    {
      "cell_type": "markdown",
      "metadata": {
        "id": "aWwDMgOX5eBE"
      },
      "source": [
        "$f(1) = 1$"
      ]
    },
    {
      "cell_type": "markdown",
      "metadata": {
        "id": "ycXpc7KM5eBF"
      },
      "source": [
        "$f(100) = 15049$"
      ]
    },
    {
      "cell_type": "markdown",
      "metadata": {
        "id": "K3dRCskfGjqU"
      },
      "source": [
        "- Mas como estamos usando escala logarítmica em **ambos** os eixos, fazemos o cálculo de $b$ usando $\\log$ no numerador e denominador:"
      ]
    },
    {
      "cell_type": "markdown",
      "metadata": {
        "id": "zrKLSopm5eBH"
      },
      "source": [
        "$b \\approx \\frac{\\log(15049) - \\log(1)}{\\log(100)-\\log(1)} = 2.08875...$"
      ]
    },
    {
      "cell_type": "markdown",
      "metadata": {
        "id": "Vmd71NDK5eBI"
      },
      "source": [
        "$f(n) \\approx n^{2.09}$"
      ]
    },
    {
      "cell_type": "markdown",
      "metadata": {
        "id": "k8ZM72I95eBJ"
      },
      "source": [
        "Obs: o expoente é, efetivamente, igual a 2 (função quadrática), mas para fins experimentais esse resultado já é bem aceitável."
      ]
    },
    {
      "cell_type": "code",
      "metadata": {
        "id": "-J_X-pq7Fv8S",
        "colab": {
          "base_uri": "https://localhost:8080/"
        },
        "outputId": "379de18c-640f-4b44-c19f-ddfa7196e819"
      },
      "source": [
        "print(100000 ** 2.08875)\n",
        "print(100000 ** 2)"
      ],
      "execution_count": null,
      "outputs": [
        {
          "output_type": "stream",
          "name": "stdout",
          "text": [
            "27781135966.42539\n",
            "10000000000\n"
          ]
        }
      ]
    }
  ]
}